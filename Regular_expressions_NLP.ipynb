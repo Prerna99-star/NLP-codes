{
  "nbformat": 4,
  "nbformat_minor": 0,
  "metadata": {
    "colab": {
      "name": "Regular_expressions_NLP.ipynb",
      "provenance": [],
      "authorship_tag": "ABX9TyMROlUgNeiNfmgNTbbLCqev",
      "include_colab_link": true
    },
    "kernelspec": {
      "name": "python3",
      "display_name": "Python 3"
    }
  },
  "cells": [
    {
      "cell_type": "markdown",
      "metadata": {
        "id": "view-in-github",
        "colab_type": "text"
      },
      "source": [
        "<a href=\"https://colab.research.google.com/github/Prerna99-star/NLP-codes/blob/master/Regular_expressions_NLP.ipynb\" target=\"_parent\"><img src=\"https://colab.research.google.com/assets/colab-badge.svg\" alt=\"Open In Colab\"/></a>"
      ]
    },
    {
      "cell_type": "code",
      "metadata": {
        "id": "NSxphduQvpSO",
        "colab_type": "code",
        "colab": {}
      },
      "source": [
        "import re\n",
        "re_test = 'This a made up string to test two different methods of regex'\n",
        "re_test_messy = 'This    a made up    string to test    two different methods    of regex'\n",
        "re_test_messy1 = 'This-a-made-up.string>>>>to-----test*two====different\"\"\"\"\"\"\"\"\"methods==of==regex'"
      ],
      "execution_count": 0,
      "outputs": []
    },
    {
      "cell_type": "code",
      "metadata": {
        "id": "JGw54YYYwzEm",
        "colab_type": "code",
        "colab": {
          "base_uri": "https://localhost:8080/",
          "height": 221
        },
        "outputId": "0cb05c49-9380-4181-97fa-622bdc477c8e"
      },
      "source": [
        "# Splitting a sentence into a list of words\n",
        "re.split('\\s', re_test)"
      ],
      "execution_count": 7,
      "outputs": [
        {
          "output_type": "execute_result",
          "data": {
            "text/plain": [
              "['This',\n",
              " 'a',\n",
              " 'made',\n",
              " 'up',\n",
              " 'string',\n",
              " 'to',\n",
              " 'test',\n",
              " 'two',\n",
              " 'different',\n",
              " 'methods',\n",
              " 'of',\n",
              " 'regex']"
            ]
          },
          "metadata": {
            "tags": []
          },
          "execution_count": 7
        }
      ]
    },
    {
      "cell_type": "code",
      "metadata": {
        "id": "-7DkcD5nxSMp",
        "colab_type": "code",
        "colab": {
          "base_uri": "https://localhost:8080/",
          "height": 425
        },
        "outputId": "30d77c23-70d9-4af5-fbb0-0aedc4083d04"
      },
      "source": [
        "re.split('\\s', re_test_messy)"
      ],
      "execution_count": 8,
      "outputs": [
        {
          "output_type": "execute_result",
          "data": {
            "text/plain": [
              "['This',\n",
              " '',\n",
              " '',\n",
              " '',\n",
              " 'a',\n",
              " 'made',\n",
              " 'up',\n",
              " '',\n",
              " '',\n",
              " '',\n",
              " 'string',\n",
              " 'to',\n",
              " 'test',\n",
              " '',\n",
              " '',\n",
              " '',\n",
              " 'two',\n",
              " 'different',\n",
              " 'methods',\n",
              " '',\n",
              " '',\n",
              " '',\n",
              " 'of',\n",
              " 'regex']"
            ]
          },
          "metadata": {
            "tags": []
          },
          "execution_count": 8
        }
      ]
    },
    {
      "cell_type": "code",
      "metadata": {
        "id": "DrRJQ9DBxcJl",
        "colab_type": "code",
        "colab": {
          "base_uri": "https://localhost:8080/",
          "height": 221
        },
        "outputId": "39982d4d-7adb-413a-9ef1-47631a27d1bc"
      },
      "source": [
        "re.split('\\s+', re_test_messy)"
      ],
      "execution_count": 9,
      "outputs": [
        {
          "output_type": "execute_result",
          "data": {
            "text/plain": [
              "['This',\n",
              " 'a',\n",
              " 'made',\n",
              " 'up',\n",
              " 'string',\n",
              " 'to',\n",
              " 'test',\n",
              " 'two',\n",
              " 'different',\n",
              " 'methods',\n",
              " 'of',\n",
              " 'regex']"
            ]
          },
          "metadata": {
            "tags": []
          },
          "execution_count": 9
        }
      ]
    },
    {
      "cell_type": "code",
      "metadata": {
        "id": "PmYjBkAxxl-c",
        "colab_type": "code",
        "colab": {
          "base_uri": "https://localhost:8080/",
          "height": 34
        },
        "outputId": "bf44e367-3488-427e-d512-2116a6af31b8"
      },
      "source": [
        "re.split('\\s', re_test_messy1)"
      ],
      "execution_count": 10,
      "outputs": [
        {
          "output_type": "execute_result",
          "data": {
            "text/plain": [
              "['This-a-made-up.string>>>>to-----test*two====different\"\"\"\"\"\"\"\"\"methods==of==regex']"
            ]
          },
          "metadata": {
            "tags": []
          },
          "execution_count": 10
        }
      ]
    },
    {
      "cell_type": "code",
      "metadata": {
        "id": "5hssC2-yxttO",
        "colab_type": "code",
        "colab": {
          "base_uri": "https://localhost:8080/",
          "height": 221
        },
        "outputId": "b0e704ff-5ba2-41ba-d32f-3cee3ec350be"
      },
      "source": [
        "re.split('\\W+', re_test_messy1)"
      ],
      "execution_count": 11,
      "outputs": [
        {
          "output_type": "execute_result",
          "data": {
            "text/plain": [
              "['This',\n",
              " 'a',\n",
              " 'made',\n",
              " 'up',\n",
              " 'string',\n",
              " 'to',\n",
              " 'test',\n",
              " 'two',\n",
              " 'different',\n",
              " 'methods',\n",
              " 'of',\n",
              " 'regex']"
            ]
          },
          "metadata": {
            "tags": []
          },
          "execution_count": 11
        }
      ]
    },
    {
      "cell_type": "code",
      "metadata": {
        "id": "jJS9Lb6EzUoJ",
        "colab_type": "code",
        "colab": {
          "base_uri": "https://localhost:8080/",
          "height": 221
        },
        "outputId": "22e88fc5-42a6-4cf2-eddf-1da5814ba202"
      },
      "source": [
        "re.findall('\\S+', re_test_messy)"
      ],
      "execution_count": 14,
      "outputs": [
        {
          "output_type": "execute_result",
          "data": {
            "text/plain": [
              "['This',\n",
              " 'a',\n",
              " 'made',\n",
              " 'up',\n",
              " 'string',\n",
              " 'to',\n",
              " 'test',\n",
              " 'two',\n",
              " 'different',\n",
              " 'methods',\n",
              " 'of',\n",
              " 'regex']"
            ]
          },
          "metadata": {
            "tags": []
          },
          "execution_count": 14
        }
      ]
    }
  ]
}